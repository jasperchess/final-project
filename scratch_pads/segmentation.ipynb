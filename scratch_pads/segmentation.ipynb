version https://git-lfs.github.com/spec/v1
oid sha256:7351b7d52d760cb43ad75a622d4fea1837828498027b601ace74afc18458d04e
size 29306510
