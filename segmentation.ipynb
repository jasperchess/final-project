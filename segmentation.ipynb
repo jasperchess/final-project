version https://git-lfs.github.com/spec/v1
oid sha256:0295dd9ec5ca572694e4cb728b5036474b5ee79c9c01129e530f5e146fdb7ded
size 28680828
