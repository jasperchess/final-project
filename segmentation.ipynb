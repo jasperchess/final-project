version https://git-lfs.github.com/spec/v1
oid sha256:e187e836e6d397a768135a1704347cfc869d77eae0359a2744c0f964d881439f
size 28922437
