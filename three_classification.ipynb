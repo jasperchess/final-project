version https://git-lfs.github.com/spec/v1
oid sha256:bd4feac9955307ade3067f861a0632f88a3021a228eb7b1efd9760c8262c8bf4
size 6705254
