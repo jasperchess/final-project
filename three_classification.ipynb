version https://git-lfs.github.com/spec/v1
oid sha256:412a765da493372dca710e51df92cd7fac26d9e996ca301b6167f4461b9dc905
size 10633462
