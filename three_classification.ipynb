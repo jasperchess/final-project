version https://git-lfs.github.com/spec/v1
oid sha256:c6ee0d54cadcae28d2c3d8005ea058ca5e92a327ec233ed19f4e3269227bad50
size 10639555
