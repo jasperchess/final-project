version https://git-lfs.github.com/spec/v1
oid sha256:0d6b8a3f4f926c1c8031576af12def6c008ee62e97dffc7d6081cbc4c05d8a34
size 9913300
