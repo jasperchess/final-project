version https://git-lfs.github.com/spec/v1
oid sha256:def8427fc0348c106c6f67346729ef0c48e113649678dd0ca740644ed0c4de4a
size 9844258
