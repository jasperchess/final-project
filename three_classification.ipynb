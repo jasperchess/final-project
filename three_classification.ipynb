version https://git-lfs.github.com/spec/v1
oid sha256:c4c8b5d50e43c6e254d415fb5cc76f1be1fb493cf13de09e616723ae721ebbe5
size 4956151
