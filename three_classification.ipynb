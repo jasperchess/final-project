version https://git-lfs.github.com/spec/v1
oid sha256:69d51989e25bfa5700e5b35b7bbd47bac9d8d9bc19c944ce336af7901b721392
size 6190366
