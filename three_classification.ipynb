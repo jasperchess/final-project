version https://git-lfs.github.com/spec/v1
oid sha256:364e05d05a3cfb81fb0dfcaa124e34365d27dc97233062c2073a8826b51700a6
size 10015321
