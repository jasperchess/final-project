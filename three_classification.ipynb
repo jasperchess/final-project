version https://git-lfs.github.com/spec/v1
oid sha256:b09d1c1a3897c5f410f9768bb3d9fe2e7985ab13467124fc08234a3d5d9a1a84
size 3863543
