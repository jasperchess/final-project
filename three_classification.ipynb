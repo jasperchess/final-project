version https://git-lfs.github.com/spec/v1
oid sha256:d9309f1c83afe10c781a5b744d05889e76b793d6b7482957efbfe19999af5fb1
size 6284829
